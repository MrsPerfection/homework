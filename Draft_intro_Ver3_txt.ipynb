{
  "nbformat": 4,
  "nbformat_minor": 0,
  "metadata": {
    "colab": {
      "name": "Draft-intro-Ver3.txt",
      "provenance": [],
      "collapsed_sections": [],
      "authorship_tag": "ABX9TyMdHh/ABt0Hy2IFZ7UQUM3f",
      "include_colab_link": true
    },
    "kernelspec": {
      "name": "python3",
      "display_name": "Python 3"
    }
  },
  "cells": [
    {
      "cell_type": "markdown",
      "metadata": {
        "id": "view-in-github",
        "colab_type": "text"
      },
      "source": [
        "<a href=\"https://colab.research.google.com/github/MrsPerfection/homework/blob/main/Draft_intro_Ver3_txt.ipynb\" target=\"_parent\"><img src=\"https://colab.research.google.com/assets/colab-badge.svg\" alt=\"Open In Colab\"/></a>"
      ]
    },
    {
      "cell_type": "markdown",
      "metadata": {
        "id": "vD3braT3UPY4"
      },
      "source": [
        "*Partie 1: Présentation du sujet:  >> l’immunité inné*\n",
        "\n",
        "# Introduction: \n",
        "\n",
        "**. Mise en contexte:**\n",
        "\n",
        "   Le système immunitaire est un ancien réseau très complexe qui permet la détection et la défense contre des agents pathogènes. On peu également lui attribuer une régulation de l’interaction hôte/microbe. Ce système est plus particulièrement connue chez les vertébrés où il peut être découper en deux phase distinctes: \n",
        "\t- La protection rapide de l’hôte face à une agression, qui est orchestré par l’immunité inné.\n",
        "\t- L’attaque contre un pathogène bien précis, mit en oeuvre par le système immunitaire adaptative.\n",
        "\n",
        "Nous souhaitons étudier cette réponse surtout comparer des résultats obtenue avec différents outils, chez des organismes marin ?\n",
        "\n",
        "  De nombreuse étude d’immunité inné ont déjà été réalisé. Mais jusque là, toute se sont concentré sur son rôle dans le vieillissement, la guérison de plaie ou encore dans la reconnaissance du soi. Rare sont celles qui mettent en avant les aspect évolutive de l’immunité inné ou qui révèle des facteurs immunitaire clés (qui seraient) très conservé pendant l’évolution. \n",
        "\n"
      ]
    },
    {
      "cell_type": "markdown",
      "metadata": {
        "id": "uuzls-rQUfwA"
      },
      "source": [
        "# But: \n",
        "on va utiliser une approche bio-info pour repérer et analyser les gènes de l’immunité chez Aipt (leur expression regulation, pathwaye etc… ) Et comme organisme non model et pas très documenté, on va appliquer plusieurs méthode différente pour les comparer et voir si on observe un outil plus performant  (=une méthode meilleur pour cette organisme là == Cnidaire)\n"
      ]
    },
    {
      "cell_type": "markdown",
      "metadata": {
        "id": "jswXqGn1UjrX"
      },
      "source": [
        "--> On s’intéresse principalement au système immunitaire. Beaucoup d’études ont été réalisé sur organisme modele et principalement C.Elegance et Drosophile. Mais avec le temps, malgré de nombreuse découverte, on a une limitation sur ce qu’on peut appliquer a l’homme car model == invertébré donc différent. \n",
        "\n",
        "Finalemement, avec l’émergence de séquencage RNA sur organisme Cnidaire (coraux et anémone), on s’est rendue compte que bcp de gène de l’immunité était présent et donc, comme c’est un groupe ‘early diverging’, traduit la présence de gènes ancestraux. Donc on peut suivre l’évolution des gènes de l’immunité. \n",
        "\n",
        "On va étudier le système immunitaire des Cnidaire (plus particulièrement Aiptasia) pour en apprendre plus. Ces recherches, mettant en avant les gêne immunitaire, nécessite bcp d’analyse bio-info. Il existe une multitude d’outil bio-info différents mais jusque la, principalement utilisé sur des organismes model ou mieux connue. Du coup, un des but sera de comparer des outil bio-infos pour voir si un outil (ou une étape spéciale de l’outil) fonctionne mieux (ou plus spécifiquement) pour les Cnidaire que sur autre organismes. \n",
        "\n",
        "Comme Aipt n’est pas encore considérer comme un model, on fait donc de notre mieux pour le documenté mais a l’origine pas vraiment de fichier source (genome ou Transcriptome disponible). \n",
        "\n",
        "On a commencer avec Trinity ==> Assemblage Denovo donc pas besoin d’avoir un génome de référence.  Va permettre de …\n",
        "Puis Kallisto et Star (marche avce différént algorithme). On va obtenir différent résultats qu'on va devoir comparer entre eux.\n"
      ]
    }
  ]
}