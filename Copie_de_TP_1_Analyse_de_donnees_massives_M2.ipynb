{
  "nbformat": 4,
  "nbformat_minor": 0,
  "metadata": {
    "kernelspec": {
      "display_name": "Python 3",
      "language": "python",
      "name": "python3"
    },
    "language_info": {
      "codemirror_mode": {
        "name": "ipython",
        "version": 3
      },
      "file_extension": ".py",
      "mimetype": "text/x-python",
      "name": "python",
      "nbconvert_exporter": "python",
      "pygments_lexer": "ipython3",
      "version": "3.6.10"
    },
    "colab": {
      "name": "Copie de TP_1_Analyse_de_donnees_massives_M2.ipynb",
      "provenance": [],
      "collapsed_sections": []
    }
  },
  "cells": [
    {
      "cell_type": "markdown",
      "metadata": {
        "id": "fVyM9ZeByHAq"
      },
      "source": [
        "_La base des TPs pour le cours \"Analyse de données massives 2\" a été prise du cours en ligne \"Open Machine Learning Course\" (https://mlcourse.ai/, __auteur Yury Kashnitsky__)_ "
      ]
    },
    {
      "cell_type": "markdown",
      "metadata": {
        "_uuid": "66409c8728e75df39a1390bcb634ae50c6b37652",
        "collapsed": true,
        "id": "d2Kl4D4MyHAs"
      },
      "source": [
        "# <center> TP 1 : Analyse exploratoire et analyse visuelle de données avec la librairie Pandas et Seaborn\n",
        "\n",
        "##  <center> Analyse des données de maladies cardiovasculaires"
      ]
    },
    {
      "cell_type": "markdown",
      "metadata": {
        "_uuid": "5cea59b8adb04c5a07a32c5b70a829319ba0cf2a",
        "id": "L-Fed8QEyHAu"
      },
      "source": [
        "Pour vous entraîner avec les librairies Pandas et Seaborn, et aussi l’AED (Analyse Exploratoire de Données), vous pouvez remplir les lignes ci-dessous où vous analyserez un ensemble de données sur les maladies cardiovasculaires.\n",
        "\n",
        "### Problème\n",
        "\n",
        "Prédire la présence ou l'absence de maladie cardiovasculaire (MCV) en utilisant les résultats de l'examen du patient.\n",
        "\n",
        "### Description des données\n",
        "\n",
        "Il existe 3 types de caractéristiques d'entrée:\n",
        "\n",
        "- *Objectives*: informations factuelles;\n",
        "- *Examinées*: résultats d'un examen médical;\n",
        "- *Subjectives*: informations données par le patient.\n",
        "\n",
        "La description des données en anglais :\n",
        "\n",
        "| Feature | Variable Type | Variable      | Value Type |\n",
        "|---------|--------------|---------------|------------|\n",
        "| Age | Objective Feature | age | int (days) |\n",
        "| Height | Objective Feature | height | int (cm) |\n",
        "| Weight | Objective Feature | weight | float (kg) |\n",
        "| Gender | Objective Feature | gender | categorical code |\n",
        "| Systolic blood pressure | Examination Feature | ap_hi | int |\n",
        "| Diastolic blood pressure | Examination Feature | ap_lo | int |\n",
        "| Cholesterol | Examination Feature | cholesterol | 1: normal, 2: above normal, 3: well above normal |\n",
        "| Glucose | Examination Feature | gluc | 1: normal, 2: above normal, 3: well above normal |\n",
        "| Smoking | Subjective Feature | smoke | binary |\n",
        "| Alcohol intake | Subjective Feature | alco | binary |\n",
        "| Physical activity | Subjective Feature | active | binary |\n",
        "| Presence or absence of cardiovascular disease | Target Variable | cardio | binary |\n",
        "\n",
        "Toutes les valeurs du dataset ont été collectées au moment de l'examen médical."
      ]
    },
    {
      "cell_type": "markdown",
      "metadata": {
        "_uuid": "10749a7f9b46749e3a90ff697bc298760045c333",
        "id": "_aA40LSOyHAv"
      },
      "source": [
        "# Partie 1. Analyse préliminaire des données\n",
        "\n",
        "Tout d'abord, nous allons initialiser l'environnement:\n",
        "\n",
        "**Ex.1 : Importez tout les bibliothèques nécessaires : `pandas`, `numpy` et `seaborn`**"
      ]
    },
    {
      "cell_type": "code",
      "metadata": {
        "_uuid": "85426734e890fcf72416f29a953da115c1171080",
        "id": "EnSZyzktyHAx"
      },
      "source": [
        "# You code here\n",
        "import pandas as pd\n",
        "import numpy as np\n",
        "import seaborn as sns"
      ],
      "execution_count": 2,
      "outputs": []
    },
    {
      "cell_type": "markdown",
      "metadata": {
        "_uuid": "cbcf821e4bea8a7f7fb1ee4a9bf285b6c4b588ee",
        "id": "sQIeCDfpyHA2"
      },
      "source": [
        "Configurons les bibliothèques `seaborn` and `matplotlib` pour l'analyse visuelle :"
      ]
    },
    {
      "cell_type": "code",
      "metadata": {
        "_uuid": "b33601a0cadc2fb2d92f211c31bf99a502f71d48",
        "id": "M4qsZo6ZyHA3"
      },
      "source": [
        "# Tune the visual settings for figures in `seaborn`\n",
        "sns.set_context(\n",
        "    \"notebook\", \n",
        "    font_scale=1.5,       \n",
        "    rc={ \n",
        "        \"figure.figsize\": (11, 8), \n",
        "        \"axes.titlesize\": 18 \n",
        "    }\n",
        ")\n",
        "\n",
        "import matplotlib\n",
        "import matplotlib.pyplot as plt\n",
        "import matplotlib.ticker\n",
        "%matplotlib inline\n",
        "\n",
        "from matplotlib import rcParams\n",
        "rcParams['figure.figsize'] = 11, 8"
      ],
      "execution_count": 3,
      "outputs": []
    },
    {
      "cell_type": "markdown",
      "metadata": {
        "_uuid": "89381351e4b95530b355e0e55bc4536c0a813d10",
        "id": "Vz0hcMTVyHA7"
      },
      "source": [
        "**Ex.2 : Chargez les données (en utilisant la méthode `read_csv`) du lien `url` indiqué ci-dessous, et affichez les 5 premières lignes en utilisant la méthode `head`:**"
      ]
    },
    {
      "cell_type": "code",
      "metadata": {
        "_uuid": "2bd0005e660693a061577ca5244b48ccebf36719",
        "id": "YF36OULNyHA8",
        "outputId": "56ac26b4-24a3-4d0f-ad3a-bbca198b672a",
        "colab": {
          "base_uri": "https://localhost:8080/",
          "height": 204
        }
      },
      "source": [
        "url = \"https://raw.githubusercontent.com/Yorko/mlcourse.ai/master/data/mlbootcamp5_train.csv\"\n",
        "\n",
        "# You code here\n",
        "df=pd.read_csv(url, sep=';') #on precise separateur ';'\n",
        "df.head()                    # On regarde l'allure des données "
      ],
      "execution_count": 4,
      "outputs": [
        {
          "output_type": "execute_result",
          "data": {
            "text/html": [
              "<div>\n",
              "<style scoped>\n",
              "    .dataframe tbody tr th:only-of-type {\n",
              "        vertical-align: middle;\n",
              "    }\n",
              "\n",
              "    .dataframe tbody tr th {\n",
              "        vertical-align: top;\n",
              "    }\n",
              "\n",
              "    .dataframe thead th {\n",
              "        text-align: right;\n",
              "    }\n",
              "</style>\n",
              "<table border=\"1\" class=\"dataframe\">\n",
              "  <thead>\n",
              "    <tr style=\"text-align: right;\">\n",
              "      <th></th>\n",
              "      <th>id</th>\n",
              "      <th>age</th>\n",
              "      <th>gender</th>\n",
              "      <th>height</th>\n",
              "      <th>weight</th>\n",
              "      <th>ap_hi</th>\n",
              "      <th>ap_lo</th>\n",
              "      <th>cholesterol</th>\n",
              "      <th>gluc</th>\n",
              "      <th>smoke</th>\n",
              "      <th>alco</th>\n",
              "      <th>active</th>\n",
              "      <th>cardio</th>\n",
              "    </tr>\n",
              "  </thead>\n",
              "  <tbody>\n",
              "    <tr>\n",
              "      <th>0</th>\n",
              "      <td>0</td>\n",
              "      <td>18393</td>\n",
              "      <td>2</td>\n",
              "      <td>168</td>\n",
              "      <td>62.0</td>\n",
              "      <td>110</td>\n",
              "      <td>80</td>\n",
              "      <td>1</td>\n",
              "      <td>1</td>\n",
              "      <td>0</td>\n",
              "      <td>0</td>\n",
              "      <td>1</td>\n",
              "      <td>0</td>\n",
              "    </tr>\n",
              "    <tr>\n",
              "      <th>1</th>\n",
              "      <td>1</td>\n",
              "      <td>20228</td>\n",
              "      <td>1</td>\n",
              "      <td>156</td>\n",
              "      <td>85.0</td>\n",
              "      <td>140</td>\n",
              "      <td>90</td>\n",
              "      <td>3</td>\n",
              "      <td>1</td>\n",
              "      <td>0</td>\n",
              "      <td>0</td>\n",
              "      <td>1</td>\n",
              "      <td>1</td>\n",
              "    </tr>\n",
              "    <tr>\n",
              "      <th>2</th>\n",
              "      <td>2</td>\n",
              "      <td>18857</td>\n",
              "      <td>1</td>\n",
              "      <td>165</td>\n",
              "      <td>64.0</td>\n",
              "      <td>130</td>\n",
              "      <td>70</td>\n",
              "      <td>3</td>\n",
              "      <td>1</td>\n",
              "      <td>0</td>\n",
              "      <td>0</td>\n",
              "      <td>0</td>\n",
              "      <td>1</td>\n",
              "    </tr>\n",
              "    <tr>\n",
              "      <th>3</th>\n",
              "      <td>3</td>\n",
              "      <td>17623</td>\n",
              "      <td>2</td>\n",
              "      <td>169</td>\n",
              "      <td>82.0</td>\n",
              "      <td>150</td>\n",
              "      <td>100</td>\n",
              "      <td>1</td>\n",
              "      <td>1</td>\n",
              "      <td>0</td>\n",
              "      <td>0</td>\n",
              "      <td>1</td>\n",
              "      <td>1</td>\n",
              "    </tr>\n",
              "    <tr>\n",
              "      <th>4</th>\n",
              "      <td>4</td>\n",
              "      <td>17474</td>\n",
              "      <td>1</td>\n",
              "      <td>156</td>\n",
              "      <td>56.0</td>\n",
              "      <td>100</td>\n",
              "      <td>60</td>\n",
              "      <td>1</td>\n",
              "      <td>1</td>\n",
              "      <td>0</td>\n",
              "      <td>0</td>\n",
              "      <td>0</td>\n",
              "      <td>0</td>\n",
              "    </tr>\n",
              "  </tbody>\n",
              "</table>\n",
              "</div>"
            ],
            "text/plain": [
              "   id    age  gender  height  weight  ...  gluc  smoke  alco  active  cardio\n",
              "0   0  18393       2     168    62.0  ...     1      0     0       1       0\n",
              "1   1  20228       1     156    85.0  ...     1      0     0       1       1\n",
              "2   2  18857       1     165    64.0  ...     1      0     0       0       1\n",
              "3   3  17623       2     169    82.0  ...     1      0     0       1       1\n",
              "4   4  17474       1     156    56.0  ...     1      0     0       0       0\n",
              "\n",
              "[5 rows x 13 columns]"
            ]
          },
          "metadata": {
            "tags": []
          },
          "execution_count": 4
        }
      ]
    },
    {
      "cell_type": "markdown",
      "metadata": {
        "id": "ok9Zynv0yHA_"
      },
      "source": [
        "**Ex.3 : Examinez les données avec la methode `.info()` et répondez aux questions :**\n",
        "1. Quelle est la dimensionnalité des données ? \n",
        "2. Quels sont les noms et les types de caractéristiques présentées ? \n",
        "3. Combien il y a des caractéristiques avec données manquantes `null` ?"
      ]
    },
    {
      "cell_type": "code",
      "metadata": {
        "id": "N1DCRdKCyHBA",
        "outputId": "553e70a8-8ae6-48c9-fea7-b5c7f61a65bc",
        "colab": {
          "base_uri": "https://localhost:8080/",
          "height": 374
        }
      },
      "source": [
        "# You code here\n",
        "print(df.info())"
      ],
      "execution_count": 5,
      "outputs": [
        {
          "output_type": "stream",
          "text": [
            "<class 'pandas.core.frame.DataFrame'>\n",
            "RangeIndex: 70000 entries, 0 to 69999\n",
            "Data columns (total 13 columns):\n",
            " #   Column       Non-Null Count  Dtype  \n",
            "---  ------       --------------  -----  \n",
            " 0   id           70000 non-null  int64  \n",
            " 1   age          70000 non-null  int64  \n",
            " 2   gender       70000 non-null  int64  \n",
            " 3   height       70000 non-null  int64  \n",
            " 4   weight       70000 non-null  float64\n",
            " 5   ap_hi        70000 non-null  int64  \n",
            " 6   ap_lo        70000 non-null  int64  \n",
            " 7   cholesterol  70000 non-null  int64  \n",
            " 8   gluc         70000 non-null  int64  \n",
            " 9   smoke        70000 non-null  int64  \n",
            " 10  alco         70000 non-null  int64  \n",
            " 11  active       70000 non-null  int64  \n",
            " 12  cardio       70000 non-null  int64  \n",
            "dtypes: float64(1), int64(12)\n",
            "memory usage: 6.9 MB\n",
            "None\n"
          ],
          "name": "stdout"
        }
      ]
    },
    {
      "cell_type": "markdown",
      "metadata": {
        "id": "M2uh7xm6J1DR"
      },
      "source": [
        "# **Reponse:**\n",
        "1) On a un tableau (une table). Les données sont donc bi-dimentionelle.\n",
        "\n",
        "2) Les caractéristiques sont tous des données numéric de type entiers (int) ou décimal (float) pour un seu\n",
        "\n",
        "3) Toutes les données sont complètes == pas de données manquante null (70000 in every row)"
      ]
    },
    {
      "cell_type": "markdown",
      "metadata": {
        "_uuid": "636bf459023fbc1d1f1b73863c5246397dc26e6d",
        "id": "CBwTBzQ1yHBC"
      },
      "source": [
        "Il serait instructif de jeter un coup d'oeil aux valeurs de nos variables.\n",
        "\n",
        "Convertissons les données au format *long* et affichons le nombre de valeurs des entités catégoriques en utilisant [`factorplot()`](https://seaborn.pydata.org/generated/seaborn.factorplot.html)."
      ]
    },
    {
      "cell_type": "code",
      "metadata": {
        "_uuid": "334ad6a83e7bb58f2c65ec512bfc401a0948c17a",
        "id": "rv3qoydHyHBD",
        "outputId": "b20a2053-7db9-4384-f68d-f973d58c46b0",
        "colab": {
          "base_uri": "https://localhost:8080/",
          "height": 983
        }
      },
      "source": [
        "df_uniques = pd.melt(frame=df, value_vars=['gender','cholesterol', \n",
        "                                           'gluc', 'smoke', 'alco', \n",
        "                                           'active', 'cardio'])\n",
        "df_uniques = pd.DataFrame(df_uniques.groupby(['variable', \n",
        "                                              'value'])['value'].count()) \\\n",
        "    .sort_index(level=[0, 1]) \\\n",
        "    .rename(columns={'value': 'count'}) \\\n",
        "    .reset_index()\n",
        "\n",
        "sns.factorplot(x='variable', y='count', hue='value', \n",
        "               data=df_uniques, kind='bar', size=12);"
      ],
      "execution_count": 6,
      "outputs": [
        {
          "output_type": "stream",
          "text": [
            "/usr/local/lib/python3.6/dist-packages/seaborn/categorical.py:3704: UserWarning: The `factorplot` function has been renamed to `catplot`. The original name will be removed in a future release. Please update your code. Note that the default `kind` in `factorplot` (`'point'`) has changed `'strip'` in `catplot`.\n",
            "  warnings.warn(msg)\n",
            "/usr/local/lib/python3.6/dist-packages/seaborn/categorical.py:3710: UserWarning: The `size` parameter has been renamed to `height`; please update your code.\n",
            "  warnings.warn(msg, UserWarning)\n"
          ],
          "name": "stderr"
        },
        {
          "output_type": "display_data",
          "data": {
            "image/png": "[encoded data removed]",
            "text/plain": [
              "<Figure size 933.9x864 with 1 Axes>"
            ]
          },
          "metadata": {
            "tags": [],
            "needs_background": "light"
          }
        }
      ]
    },
    {
      "cell_type": "markdown",
      "metadata": {
        "_uuid": "cb94ec9ddf78c607cdec5536581b8ec4004ac16b",
        "collapsed": true,
        "id": "deEughqUyHBG"
      },
      "source": [
        "Nous pouvons voir que les classes cibles sont équilibrées. C'est génial !\n",
        "\n",
        "Separons l'ensemble des données selon les valeurs cibles. Peut-on déjà repérer la caractéristique la plus significative simplement en regardant les graphiques ?"
      ]
    },
    {
      "cell_type": "code",
      "metadata": {
        "_uuid": "a712d76f8c11588a9aebd4be6a00f01c53a8d80a",
        "id": "Aci2ClrzyHBH",
        "outputId": "f2e3ceaa-8805-4b43-dca5-d8528cbb9628",
        "colab": {
          "base_uri": "https://localhost:8080/",
          "height": 737
        }
      },
      "source": [
        "df_uniques = pd.melt(frame=df, value_vars=['gender','cholesterol', \n",
        "                                           'gluc', 'smoke', 'alco', \n",
        "                                           'active'], \n",
        "                     id_vars=['cardio'])\n",
        "df_uniques = pd.DataFrame(df_uniques.groupby(['variable', 'value', \n",
        "                                              'cardio'])['value'].count()) \\\n",
        "    .sort_index(level=[0, 1]) \\\n",
        "    .rename(columns={'value': 'count'}) \\\n",
        "    .reset_index()\n",
        "\n",
        "sns.factorplot(x='variable', y='count', hue='value', \n",
        "               col='cardio', data=df_uniques, kind='bar', size=9);"
      ],
      "execution_count": 7,
      "outputs": [
        {
          "output_type": "stream",
          "text": [
            "/usr/local/lib/python3.6/dist-packages/seaborn/categorical.py:3704: UserWarning: The `factorplot` function has been renamed to `catplot`. The original name will be removed in a future release. Please update your code. Note that the default `kind` in `factorplot` (`'point'`) has changed `'strip'` in `catplot`.\n",
            "  warnings.warn(msg)\n",
            "/usr/local/lib/python3.6/dist-packages/seaborn/categorical.py:3710: UserWarning: The `size` parameter has been renamed to `height`; please update your code.\n",
            "  warnings.warn(msg, UserWarning)\n"
          ],
          "name": "stderr"
        },
        {
          "output_type": "display_data",
          "data": {
            "image/png": "[encoded data removed]",
            "text/plain": [
              "<Figure size 1365.9x648 with 2 Axes>"
            ]
          },
          "metadata": {
            "tags": [],
            "needs_background": "light"
          }
        }
      ]
    },
    {
      "cell_type": "markdown",
      "metadata": {
        "_uuid": "4f4fdb7b979c6594b3060a0b80473fabbdf6acd0",
        "id": "MElN1HVdyHBJ"
      },
      "source": [
        "On peut voir que la distribution des niveaux de cholestérol et de glucose diffère grandement par la valeur de la variable cible. Est-ce une coïncidence?\n",
        "\n",
        "Maintenant, calculons quelques statistiques pour les valeurs uniques de la caracteristique:"
      ]
    },
    {
      "cell_type": "code",
      "metadata": {
        "_uuid": "e9cbba719f93f6b544567638be7332b7385fc715",
        "id": "qoYUuowXyHBK",
        "outputId": "b5a52d8c-26bf-4268-8e7e-2b6f5164945a",
        "colab": {
          "base_uri": "https://localhost:8080/",
          "height": 731
        }
      },
      "source": [
        "print(\"All features unique values : \\n\")\n",
        "print(\"\\t\", 10 * '-')\n",
        "for c in df.columns:\n",
        "    n = df[c].nunique()\n",
        "    print(\"\\t\", c)\n",
        "    if n <= 3:\n",
        "        print(\"\\t\", n, sorted(df[c].value_counts().to_dict().items()))\n",
        "    else:\n",
        "        print(\"\\t\", n)\n",
        "    print(\"\\t\", 10 * '-')"
      ],
      "execution_count": 8,
      "outputs": [
        {
          "output_type": "stream",
          "text": [
            "All features unique values : \n",
            "\n",
            "\t ----------\n",
            "\t id\n",
            "\t 70000\n",
            "\t ----------\n",
            "\t age\n",
            "\t 8076\n",
            "\t ----------\n",
            "\t gender\n",
            "\t 2 [(1, 45530), (2, 24470)]\n",
            "\t ----------\n",
            "\t height\n",
            "\t 109\n",
            "\t ----------\n",
            "\t weight\n",
            "\t 287\n",
            "\t ----------\n",
            "\t ap_hi\n",
            "\t 153\n",
            "\t ----------\n",
            "\t ap_lo\n",
            "\t 157\n",
            "\t ----------\n",
            "\t cholesterol\n",
            "\t 3 [(1, 52385), (2, 9549), (3, 8066)]\n",
            "\t ----------\n",
            "\t gluc\n",
            "\t 3 [(1, 59479), (2, 5190), (3, 5331)]\n",
            "\t ----------\n",
            "\t smoke\n",
            "\t 2 [(0, 63831), (1, 6169)]\n",
            "\t ----------\n",
            "\t alco\n",
            "\t 2 [(0, 66236), (1, 3764)]\n",
            "\t ----------\n",
            "\t active\n",
            "\t 2 [(0, 13739), (1, 56261)]\n",
            "\t ----------\n",
            "\t cardio\n",
            "\t 2 [(0, 35021), (1, 34979)]\n",
            "\t ----------\n"
          ],
          "name": "stdout"
        }
      ]
    },
    {
      "cell_type": "markdown",
      "metadata": {
        "_uuid": "53507160b237077bf8b19fb987b910669c04ba8b",
        "id": "Bl1KDLKiyHBM"
      },
      "source": [
        "**Finalement, nous avons:**\n",
        "- 5 caractéristiques numériques (hors *id*);\n",
        "- 7 caractéristiques catégoriques;\n",
        "- 70000 enregistrements au total."
      ]
    },
    {
      "cell_type": "markdown",
      "metadata": {
        "_uuid": "5f9dc83567c83c1ab2eeb4b855d3f8460c1a735e",
        "id": "QtsRmhANyHBN"
      },
      "source": [
        "## 1.1. Observations basiques"
      ]
    },
    {
      "cell_type": "markdown",
      "metadata": {
        "_uuid": "129e6509399146154e8c7e293a2fd11f5d267fa4",
        "id": "U4zlfzhzyHBN"
      },
      "source": [
        "**Ex. 4 : Combien d'hommes et de femmes sont présents dans cet ensemble de données ?** \n",
        "\n",
        "Les valeurs de la caractéristique `gender` n'ont pas été données (c'est pas clair que \"1\" représente les femmes ou les hommes) - déterminez-le en analysant la taille, en supposant que les hommes sont plus grands en moyenne."
      ]
    },
    {
      "cell_type": "code",
      "metadata": {
        "id": "FfYDnEKNyHBO",
        "outputId": "2debaf0b-9f50-426e-cb46-b9ac8ad6b37c",
        "colab": {
          "base_uri": "https://localhost:8080/",
          "height": 102
        }
      },
      "source": [
        "# You code here\n",
        "meanHeight=df['height'].mean()\n",
        "print(\"taille moyenne du groupe: \",meanHeight)\n",
        "print(df.groupby(['gender'])['height'].describe(percentiles=[]))\n",
        "\n",
        "#D'apres les résultats, le groupe 1 a une taille inferrieur au groupe 2 (moyenne et min plus basse bien que exception pour max). \n",
        "#Le groupe 1 représente donc les femmes qui sont plus petite que les hommes."
      ],
      "execution_count": 9,
      "outputs": [
        {
          "output_type": "stream",
          "text": [
            "taille moyenne du groupe:  164.35922857142856\n",
            "          count        mean       std   min    50%    max\n",
            "gender                                                   \n",
            "1       45530.0  161.355612  7.052726  55.0  161.0  250.0\n",
            "2       24470.0  169.947895  7.228895  65.0  170.0  207.0\n"
          ],
          "name": "stdout"
        }
      ]
    },
    {
      "cell_type": "code",
      "metadata": {
        "id": "0ZxCRx4r9hBV",
        "outputId": "9eff6e14-78d5-42fd-f828-eda6be92da39",
        "colab": {
          "base_uri": "https://localhost:8080/",
          "height": 515
        }
      },
      "source": [
        "#Autre maniere de le voir, graphic --> on a des tailles plus faible pour groupe 1 (commence avant).\n",
        "sns.countplot(x='height',hue='gender', data=df);"
      ],
      "execution_count": 10,
      "outputs": [
        {
          "output_type": "display_data",
          "data": {
            "image/png": "[encoded data removed]",
            "text/plain": [
              "<Figure size 792x576 with 1 Axes>"
            ]
          },
          "metadata": {
            "tags": [],
            "needs_background": "light"
          }
        }
      ]
    },
    {
      "cell_type": "markdown",
      "metadata": {
        "_uuid": "d6b36cf91cd63fcce92c4177475820bd6b94ec89",
        "id": "4focliYIyHBP"
      },
      "source": [
        "**Ex. 5 : Quel `gender` déclare le plus souvent consommer de l'alcool - hommes ou femmes ?**"
      ]
    },
    {
      "cell_type": "code",
      "metadata": {
        "id": "GCJsEk5VyHBQ",
        "outputId": "9b6639f9-9d05-44dc-c440-b4478ddda4de",
        "colab": {
          "base_uri": "https://localhost:8080/",
          "height": 566
        }
      },
      "source": [
        "# You code here\n",
        "sns.countplot(x='alco',hue='gender', data=df);\n",
        "df[df['alco']==1] ['gender'].value_counts()\n",
        "\n",
        "#Ce sont les hommes (groupe 2) qui declare le plus boire de l'alcool. Detaille dans tableau: 2600 hommes contre 1160 femmes."
      ],
      "execution_count": 11,
      "outputs": [
        {
          "output_type": "execute_result",
          "data": {
            "text/plain": [
              "2    2603\n",
              "1    1161\n",
              "Name: gender, dtype: int64"
            ]
          },
          "metadata": {
            "tags": []
          },
          "execution_count": 11
        },
        {
          "output_type": "display_data",
          "data": {
            "image/png": "[encoded data removed]",
            "text/plain": [
              "<Figure size 792x576 with 1 Axes>"
            ]
          },
          "metadata": {
            "tags": [],
            "needs_background": "light"
          }
        }
      ]
    },
    {
      "cell_type": "markdown",
      "metadata": {
        "_uuid": "8b98389e26edd01374d6217d8dd1e2d5ffff9d1c",
        "id": "Uk-VC_7fyHBR"
      },
      "source": [
        "**Ex. 6 : Quelle est la différence entre les pourcentages de fumeurs chez les hommes et les femmes (arrondi) ?**"
      ]
    },
    {
      "cell_type": "code",
      "metadata": {
        "id": "jxxJdqNlyHBS",
        "outputId": "dd2e589e-b8b2-49a0-acab-0641da7cece3",
        "colab": {
          "base_uri": "https://localhost:8080/",
          "height": 68
        }
      },
      "source": [
        "# You code here\n",
        "df[df['smoke']==1] ['gender'].value_counts(normalize=True)\n",
        "#Encore une fois, ont a un plus grand pourcentage d'hommes (groupe 2) qui fument. 86,8% contre 13,1% pour les femmes."
      ],
      "execution_count": 12,
      "outputs": [
        {
          "output_type": "execute_result",
          "data": {
            "text/plain": [
              "2    0.868212\n",
              "1    0.131788\n",
              "Name: gender, dtype: float64"
            ]
          },
          "metadata": {
            "tags": []
          },
          "execution_count": 12
        }
      ]
    },
    {
      "cell_type": "markdown",
      "metadata": {
        "_uuid": "c92554c5fe98a07b298cec98eaa2622a3bedbeeb",
        "id": "WbaGGsAyyHBU"
      },
      "source": [
        "**Ex. 7 : Quelle est la différence entre les valeurs médianes d'âge chez les fumeurs et les non-fumeurs (en mois, arrondies) ?** \n",
        "\n",
        "Vous devrez déterminer les unités de la caractéristique `age_in_month` dans cet ensemble de données."
      ]
    },
    {
      "cell_type": "code",
      "metadata": {
        "id": "xMWw0seSyHBU"
      },
      "source": [
        "# You code here\n",
        "df['age_in_month']=df['age']/30 #on fait un colone age in month avc (age_en_jour)/30 (un mois)\n",
        "print(df['age_in_month'].head())\n",
        "print(df['age_in_month'].describe())"
      ],
      "execution_count": null,
      "outputs": []
    },
    {
      "cell_type": "code",
      "metadata": {
        "id": "ZRptSiPgf6iY"
      },
      "source": [
        "print(\"mediane d'age pour les femmes non-fumeuse:\")\n",
        "print(df[(df['gender'] == 1) & (df['smoke'] == 0)]['age_in_month'].median()) #groupe femmes non fumeuse\n",
        "print(\"mediane d'age pour les femmes fumeuse:\")\n",
        "print(df[(df['gender'] == 1) & (df['smoke'] == 1)]['age_in_month'].median()) #groupe femmes fumeuse"
      ],
      "execution_count": null,
      "outputs": []
    },
    {
      "cell_type": "code",
      "metadata": {
        "id": "WiO63emuf2_A"
      },
      "source": [
        "print(\"mediane d'age pour les hommes non-fumeur:\")\n",
        "print(df[(df['gender'] == 2) & (df['smoke'] == 0)]['age_in_month'].median()) #groupe hommes non fumeur\n",
        "print(\"mediane d'age pour les hommes fumeur:\")\n",
        "print(df[(df['gender'] == 2) & (df['smoke'] == 1)]['age_in_month'].median()) #groupe hommes fumeur"
      ],
      "execution_count": null,
      "outputs": []
    },
    {
      "cell_type": "markdown",
      "metadata": {
        "_uuid": "9efc6fd8ff26ea2ddf95e7e0b70ef3b802f83af5",
        "id": "p37fVL47yHBW"
      },
      "source": [
        "## 1.2. Les cartes de risque (Bonus)\n",
        "\n",
        "Sur le site de la société européenne de cardiologie [l'échelle de SCORE ](https://www.escardio.org/Education/Practice-Tools/CVD-prevention-toolbox/SCORE-Risk-Charts) est fournie. Elle est utilisée pour calculer le risque de décès d'une maladie cardiovasculaire (MCV) dans les 10 prochaines années :\n",
        "<img src=https://habrastorage.org/webt/ik/gx/hr/ikgxhr3w1vzqihgitgrbdorfb14.png width=60%>\n",
        "\n",
        "Jetons un coup d'oeil au rectangle supérieur droit, qui montre un sous-ensemble d'hommes fumeurs âgés de 60 à 65. (Il n'est pas évident, mais les valeurs de la figure représentent la limite supérieure).\n",
        "\n",
        "Nous voyons la valeur 9 dans le coin inférieur gauche du rectangle et 47 dans le coin supérieur droit. Cela signifie que, pour les personnes de ce groupe de sexe-âge dont la pression systolique est inférieure à 120, le risque d'une MCV est estimé à 5 fois plus faible que pour ceux avec la pression dans l'intervalle [160,180].\n",
        "\n",
        "**Ex. 8 (Bonus) : Calculez le même ratio en utilisant nos données.**\n",
        "\n",
        "Clarifications :\n",
        "- Calculez la fonction `age_years` - arrondissez l'âge au nombre d'années le plus proche. Et pour cette tâche, sélectionnez uniquement les personnes de 60 à 64 ans inclusivement.\n",
        "- Les catégories de taux de cholestérol diffèrent entre la figure et notre ensemble de données. La conversion pour la fonction `cholestérol` est la suivante: 4 mmol/l $\\rightarrow$ 1; 5-7 mmol/l $\\rightarrow$ 2; 8 mmol/l $\\rightarrow$ 3."
      ]
    },
    {
      "cell_type": "code",
      "metadata": {
        "_uuid": "8caffb39e65c95e4cfebfe448bbe224af4d0766c",
        "id": "hN5MJW_yyHBW",
        "outputId": "e46fba53-6884-485f-8389-35dfb8cded68",
        "colab": {
          "base_uri": "https://localhost:8080/",
          "height": 119
        }
      },
      "source": [
        "# You code here\n",
        "df['age_years']=(df['age_in_month']/12).astype('int64') #on creer une colone age par ans (en la mettant en entier ==int)\n",
        "df['age_years'].head() \n",
        "older=df[(df['age_years']>=60) & (df['age_years']<=64)]\n",
        "print(older)"
      ],
      "execution_count": 14,
      "outputs": [
        {
          "output_type": "execute_result",
          "data": {
            "text/plain": [
              "0    51\n",
              "1    56\n",
              "2    52\n",
              "3    48\n",
              "4    48\n",
              "Name: age_years, dtype: int64"
            ]
          },
          "metadata": {
            "tags": []
          },
          "execution_count": 14
        }
      ]
    },
    {
      "cell_type": "markdown",
      "metadata": {
        "_uuid": "e71f8859a7fb8f23a78ac84b861d41c8f1b9e11f",
        "id": "NFzfBl9AyHBX"
      },
      "source": [
        "**Ex.9 (Bonus) : Calculez la fraction des personnes atteintes d'une MCV pour les deux segments décrits ci-dessus. Quel est le rapport de ces deux fractions?**"
      ]
    },
    {
      "cell_type": "code",
      "metadata": {
        "id": "tSsl7tF7yHBY"
      },
      "source": [
        "# You code here"
      ],
      "execution_count": 16,
      "outputs": []
    },
    {
      "cell_type": "markdown",
      "metadata": {
        "_uuid": "54cef692e0af3745091c7177d63a2d6c36044474",
        "id": "4mmJqrUCyHBZ"
      },
      "source": [
        "## 1.3. Analyse du BMI (Body Mass Index)\n",
        "\n",
        "**Ex. 10 : Créez une nouvelle caracteristique – BMI ([Body Mass Index](https://en.wikipedia.org/wiki/Body_mass_index)).**\n",
        "\n",
        "Pour ce faire, divisez le poids en kilogrammes par le carré de la taille en mètres. On dit que les valeurs normales du BMI sont de 18,5 à 25."
      ]
    },
    {
      "cell_type": "code",
      "metadata": {
        "_uuid": "5b3134f2597650ae95d0196393b30797518f0498",
        "id": "IVGdEpFOyHBZ",
        "outputId": "ad496b26-2eed-415b-8adc-56c448b7e00b",
        "colab": {
          "base_uri": "https://localhost:8080/",
          "height": 119
        }
      },
      "source": [
        "# You code here\n",
        "df['height_cm']=df['height']/100\n",
        "df['height_cm'].head()"
      ],
      "execution_count": 17,
      "outputs": [
        {
          "output_type": "execute_result",
          "data": {
            "text/plain": [
              "0    1.68\n",
              "1    1.56\n",
              "2    1.65\n",
              "3    1.69\n",
              "4    1.56\n",
              "Name: height_cm, dtype: float64"
            ]
          },
          "metadata": {
            "tags": []
          },
          "execution_count": 17
        }
      ]
    },
    {
      "cell_type": "code",
      "metadata": {
        "id": "XEDvmZHuFhOY",
        "outputId": "89706fbb-f133-47a9-820f-fec6c73d3356",
        "colab": {
          "base_uri": "https://localhost:8080/",
          "height": 119
        }
      },
      "source": [
        "df['BMI']=df['weight']/(df['height_cm']* df['height_cm'])\n",
        "df['BMI'].head()"
      ],
      "execution_count": 18,
      "outputs": [
        {
          "output_type": "execute_result",
          "data": {
            "text/plain": [
              "0    21.967120\n",
              "1    34.927679\n",
              "2    23.507805\n",
              "3    28.710479\n",
              "4    23.011177\n",
              "Name: BMI, dtype: float64"
            ]
          },
          "metadata": {
            "tags": []
          },
          "execution_count": 18
        }
      ]
    },
    {
      "cell_type": "markdown",
      "metadata": {
        "_uuid": "1c2baed24cc5b3abb94b5c6c09d571f29b39213b",
        "id": "2ZvspM52yHBa"
      },
      "source": [
        "**Ex. 11 : Choisissez les expressions correctes et argumentez votre choix :**\n",
        "\n",
        "1. La medianne du BMI dans les données se situe dans la plage des valeurs normales du BMI.\n",
        "2. Le BMI des femmes est en moyenne plus élevé que celui des hommes.\n",
        "3. Les personnes en bonne santé ont, en moyenne, un BMI plus élevé que les personnes atteintes d'une MCV.\n",
        "4. Pour les hommes en bonne santé qui ne boivent pas, le BMI est plus proche de la norme que pour les femmes en bonne santé qui ne boivent pas."
      ]
    },
    {
      "cell_type": "code",
      "metadata": {
        "id": "KTKAEw5XIh96",
        "outputId": "a8693f9d-21c4-4a73-e4b1-954d5f7a7227",
        "colab": {
          "base_uri": "https://localhost:8080/",
          "height": 170
        }
      },
      "source": [
        "df['BMI'].describe()\n",
        "#Faux, la mediane BMI n'est pas dans l'intervale [18,5:25]. Elle n'est donc pas conciderer comme normale"
      ],
      "execution_count": 19,
      "outputs": [
        {
          "output_type": "execute_result",
          "data": {
            "text/plain": [
              "count    70000.000000\n",
              "mean        27.556513\n",
              "std          6.091511\n",
              "min          3.471784\n",
              "25%         23.875115\n",
              "50%         26.374068\n",
              "75%         30.222222\n",
              "max        298.666667\n",
              "Name: BMI, dtype: float64"
            ]
          },
          "metadata": {
            "tags": []
          },
          "execution_count": 19
        }
      ]
    },
    {
      "cell_type": "code",
      "metadata": {
        "id": "MA7rcOgzyHBb",
        "outputId": "00d0f827-75bf-49f4-cdff-29e19b999423",
        "colab": {
          "base_uri": "https://localhost:8080/",
          "height": 357
        }
      },
      "source": [
        "# You code here\n",
        "print(\"Infos BMI des femmes\")\n",
        "print(df[df[\"gender\"]==1]['BMI'].describe())\n",
        "\n",
        "print(\"Infos BMI des hommes\")\n",
        "print(df[df[\"gender\"]==2]['BMI'].describe())\n",
        "#Vraie, la moyenne de BMI des femmes est un peu plus elevé que pour les hommes"
      ],
      "execution_count": 20,
      "outputs": [
        {
          "output_type": "stream",
          "text": [
            "Infos BMI des femmes\n",
            "count    45530.000000\n",
            "mean        27.987583\n",
            "std          6.495638\n",
            "min          8.001829\n",
            "25%         23.875115\n",
            "50%         26.709402\n",
            "75%         31.044558\n",
            "max        298.666667\n",
            "Name: BMI, dtype: float64\n",
            "Infos BMI des hommes\n",
            "count    24470.000000\n",
            "mean        26.754442\n",
            "std          5.162752\n",
            "min          3.471784\n",
            "25%         23.781213\n",
            "50%         25.910684\n",
            "75%         29.043709\n",
            "max        180.678074\n",
            "Name: BMI, dtype: float64\n"
          ],
          "name": "stdout"
        }
      ]
    },
    {
      "cell_type": "code",
      "metadata": {
        "id": "2ygzOjQEJuGB",
        "outputId": "4e051ede-159d-42f6-b42a-19a5d135f35b",
        "colab": {
          "base_uri": "https://localhost:8080/",
          "height": 357
        }
      },
      "source": [
        "print(\"Infos BMI personnes saines\")\n",
        "print(df[df[\"cardio\"]==0]['BMI'].describe())\n",
        "\n",
        "print(\"Infos BMI des autres\")\n",
        "print(df[df[\"cardio\"]==1]['BMI'].describe())\n",
        "#Faux, les personne avec maladies cardio vasculaire ont une BMI plus eleve"
      ],
      "execution_count": 21,
      "outputs": [
        {
          "output_type": "stream",
          "text": [
            "Infos BMI personnes saines\n",
            "count    35021.000000\n",
            "mean        26.548175\n",
            "std          5.606469\n",
            "min          7.022248\n",
            "25%         23.388687\n",
            "50%         25.476660\n",
            "75%         28.763971\n",
            "max        237.768633\n",
            "Name: BMI, dtype: float64\n",
            "Infos BMI des autres\n",
            "count    34979.000000\n",
            "mean        28.566061\n",
            "std          6.383666\n",
            "min          3.471784\n",
            "25%         24.489796\n",
            "50%         27.471384\n",
            "75%         31.555556\n",
            "max        298.666667\n",
            "Name: BMI, dtype: float64\n"
          ],
          "name": "stdout"
        }
      ]
    },
    {
      "cell_type": "markdown",
      "metadata": {
        "_uuid": "a9f14b459f71ac2304e73145fc199a90131965e7",
        "id": "ijlQOQdryHBc"
      },
      "source": [
        "# Part 2. Analyse visuelle des données\n",
        "\n",
        "## 2.1. Visualisation de matrice de corrélation\n",
        "\n",
        "Pour mieux comprendre les caractéristiques, vous pouvez créer une matrice des coefficients de corrélation entre les entités. \n",
        "\n",
        "**Ex. 12 : Creez une matrice de corrélation en utilisant [`heatmap()`](http://seaborn.pydata.org/generated/seaborn.heatmap.html). Vous pouvez aussi créer la matrice en utilisant les outils standard 'pandas' avec les paramètres par défaut.**"
      ]
    },
    {
      "cell_type": "code",
      "metadata": {
        "_uuid": "a9c19a7bf2dd564b484e8269886340c13967fede",
        "id": "iQK7Y0KNyHBc"
      },
      "source": [
        "# You code here\n",
        "matrice=sns.heatmap(df)"
      ],
      "execution_count": null,
      "outputs": []
    },
    {
      "cell_type": "markdown",
      "metadata": {
        "_uuid": "987ff630db004c51cc9e89e0c6cf6d14d619c4c0",
        "id": "haPZOcLmyHBe"
      },
      "source": [
        "**Ex. 13 : Quelle paire de caractéristiques a la plus forte corrélation de Pearson avec la caractéristique `gender` ?**"
      ]
    },
    {
      "cell_type": "code",
      "metadata": {
        "id": "h5_gEHayyHBe",
        "outputId": "f1f562a4-ba67-4f1b-d779-3a9621069bc6",
        "colab": {
          "base_uri": "https://localhost:8080/",
          "height": 647
        }
      },
      "source": [
        "# You code here\n",
        "#print (df[['cholesterol','gluc','smoke','alco','active','cardio',]].corrwith(df['gender']))\n",
        "print (df.corrwith(df['gender']))"
      ],
      "execution_count": 35,
      "outputs": [
        {
          "output_type": "stream",
          "text": [
            "id              0.003502\n",
            "age            -0.022811\n",
            "gender          1.000000\n",
            "height          0.499033\n",
            "weight          0.155406\n",
            "ap_hi           0.006005\n",
            "ap_lo           0.015254\n",
            "cholesterol    -0.035821\n",
            "gluc           -0.020491\n",
            "smoke           0.338135\n",
            "alco            0.170966\n",
            "active          0.005866\n",
            "cardio          0.008109\n",
            "age_in_month   -0.022811\n",
            "age_years      -0.022936\n",
            "height_cm       0.499033\n",
            "BMI            -0.096529\n",
            "dtype: float64\n"
          ],
          "name": "stdout"
        },
        {
          "output_type": "error",
          "ename": "IndexError",
          "evalue": "ignored",
          "traceback": [
            "\u001b[0;31m---------------------------------------------------------------------------\u001b[0m",
            "\u001b[0;31mIndexError\u001b[0m                                Traceback (most recent call last)",
            "\u001b[0;32m<ipython-input-35-c287f5f9ab99>\u001b[0m in \u001b[0;36m<module>\u001b[0;34m()\u001b[0m\n\u001b[1;32m      2\u001b[0m \u001b[0;31m#print (df[['cholesterol','gluc','smoke','alco','active','cardio',]].corrwith(df['gender']))\u001b[0m\u001b[0;34m\u001b[0m\u001b[0;34m\u001b[0m\u001b[0;34m\u001b[0m\u001b[0m\n\u001b[1;32m      3\u001b[0m \u001b[0mprint\u001b[0m \u001b[0;34m(\u001b[0m\u001b[0mdf\u001b[0m\u001b[0;34m.\u001b[0m\u001b[0mcorrwith\u001b[0m\u001b[0;34m(\u001b[0m\u001b[0mdf\u001b[0m\u001b[0;34m[\u001b[0m\u001b[0;34m'gender'\u001b[0m\u001b[0;34m]\u001b[0m\u001b[0;34m)\u001b[0m\u001b[0;34m)\u001b[0m\u001b[0;34m\u001b[0m\u001b[0;34m\u001b[0m\u001b[0m\n\u001b[0;32m----> 4\u001b[0;31m \u001b[0mmatrice\u001b[0m\u001b[0;34m=\u001b[0m\u001b[0msns\u001b[0m\u001b[0;34m.\u001b[0m\u001b[0mheatmap\u001b[0m\u001b[0;34m(\u001b[0m\u001b[0mdf\u001b[0m\u001b[0;34m.\u001b[0m\u001b[0mcorrwith\u001b[0m\u001b[0;34m(\u001b[0m\u001b[0mdf\u001b[0m\u001b[0;34m[\u001b[0m\u001b[0;34m'gender'\u001b[0m\u001b[0;34m]\u001b[0m\u001b[0;34m)\u001b[0m\u001b[0;34m)\u001b[0m\u001b[0;34m\u001b[0m\u001b[0;34m\u001b[0m\u001b[0m\n\u001b[0m",
            "\u001b[0;32m/usr/local/lib/python3.6/dist-packages/seaborn/_decorators.py\u001b[0m in \u001b[0;36minner_f\u001b[0;34m(*args, **kwargs)\u001b[0m\n\u001b[1;32m     44\u001b[0m             )\n\u001b[1;32m     45\u001b[0m         \u001b[0mkwargs\u001b[0m\u001b[0;34m.\u001b[0m\u001b[0mupdate\u001b[0m\u001b[0;34m(\u001b[0m\u001b[0;34m{\u001b[0m\u001b[0mk\u001b[0m\u001b[0;34m:\u001b[0m \u001b[0marg\u001b[0m \u001b[0;32mfor\u001b[0m \u001b[0mk\u001b[0m\u001b[0;34m,\u001b[0m \u001b[0marg\u001b[0m \u001b[0;32min\u001b[0m \u001b[0mzip\u001b[0m\u001b[0;34m(\u001b[0m\u001b[0msig\u001b[0m\u001b[0;34m.\u001b[0m\u001b[0mparameters\u001b[0m\u001b[0;34m,\u001b[0m \u001b[0margs\u001b[0m\u001b[0;34m)\u001b[0m\u001b[0;34m}\u001b[0m\u001b[0;34m)\u001b[0m\u001b[0;34m\u001b[0m\u001b[0;34m\u001b[0m\u001b[0m\n\u001b[0;32m---> 46\u001b[0;31m         \u001b[0;32mreturn\u001b[0m \u001b[0mf\u001b[0m\u001b[0;34m(\u001b[0m\u001b[0;34m**\u001b[0m\u001b[0mkwargs\u001b[0m\u001b[0;34m)\u001b[0m\u001b[0;34m\u001b[0m\u001b[0;34m\u001b[0m\u001b[0m\n\u001b[0m\u001b[1;32m     47\u001b[0m     \u001b[0;32mreturn\u001b[0m \u001b[0minner_f\u001b[0m\u001b[0;34m\u001b[0m\u001b[0;34m\u001b[0m\u001b[0m\n\u001b[1;32m     48\u001b[0m \u001b[0;34m\u001b[0m\u001b[0m\n",
            "\u001b[0;32m/usr/local/lib/python3.6/dist-packages/seaborn/matrix.py\u001b[0m in \u001b[0;36mheatmap\u001b[0;34m(data, vmin, vmax, cmap, center, robust, annot, fmt, annot_kws, linewidths, linecolor, cbar, cbar_kws, cbar_ax, square, xticklabels, yticklabels, mask, ax, **kwargs)\u001b[0m\n\u001b[1;32m    545\u001b[0m     plotter = _HeatMapper(data, vmin, vmax, cmap, center, robust, annot, fmt,\n\u001b[1;32m    546\u001b[0m                           \u001b[0mannot_kws\u001b[0m\u001b[0;34m,\u001b[0m \u001b[0mcbar\u001b[0m\u001b[0;34m,\u001b[0m \u001b[0mcbar_kws\u001b[0m\u001b[0;34m,\u001b[0m \u001b[0mxticklabels\u001b[0m\u001b[0;34m,\u001b[0m\u001b[0;34m\u001b[0m\u001b[0;34m\u001b[0m\u001b[0m\n\u001b[0;32m--> 547\u001b[0;31m                           yticklabels, mask)\n\u001b[0m\u001b[1;32m    548\u001b[0m \u001b[0;34m\u001b[0m\u001b[0m\n\u001b[1;32m    549\u001b[0m     \u001b[0;31m# Add the pcolormesh kwargs here\u001b[0m\u001b[0;34m\u001b[0m\u001b[0;34m\u001b[0m\u001b[0;34m\u001b[0m\u001b[0m\n",
            "\u001b[0;32m/usr/local/lib/python3.6/dist-packages/seaborn/matrix.py\u001b[0m in \u001b[0;36m__init__\u001b[0;34m(self, data, vmin, vmax, cmap, center, robust, annot, fmt, annot_kws, cbar, cbar_kws, xticklabels, yticklabels, mask)\u001b[0m\n\u001b[1;32m    112\u001b[0m         \u001b[0mmask\u001b[0m \u001b[0;34m=\u001b[0m \u001b[0m_matrix_mask\u001b[0m\u001b[0;34m(\u001b[0m\u001b[0mdata\u001b[0m\u001b[0;34m,\u001b[0m \u001b[0mmask\u001b[0m\u001b[0;34m)\u001b[0m\u001b[0;34m\u001b[0m\u001b[0;34m\u001b[0m\u001b[0m\n\u001b[1;32m    113\u001b[0m \u001b[0;34m\u001b[0m\u001b[0m\n\u001b[0;32m--> 114\u001b[0;31m         \u001b[0mplot_data\u001b[0m \u001b[0;34m=\u001b[0m \u001b[0mnp\u001b[0m\u001b[0;34m.\u001b[0m\u001b[0mma\u001b[0m\u001b[0;34m.\u001b[0m\u001b[0mmasked_where\u001b[0m\u001b[0;34m(\u001b[0m\u001b[0mnp\u001b[0m\u001b[0;34m.\u001b[0m\u001b[0masarray\u001b[0m\u001b[0;34m(\u001b[0m\u001b[0mmask\u001b[0m\u001b[0;34m)\u001b[0m\u001b[0;34m,\u001b[0m \u001b[0mplot_data\u001b[0m\u001b[0;34m)\u001b[0m\u001b[0;34m\u001b[0m\u001b[0;34m\u001b[0m\u001b[0m\n\u001b[0m\u001b[1;32m    115\u001b[0m \u001b[0;34m\u001b[0m\u001b[0m\n\u001b[1;32m    116\u001b[0m         \u001b[0;31m# Get good names for the rows and columns\u001b[0m\u001b[0;34m\u001b[0m\u001b[0;34m\u001b[0m\u001b[0;34m\u001b[0m\u001b[0m\n",
            "\u001b[0;32m/usr/local/lib/python3.6/dist-packages/numpy/ma/core.py\u001b[0m in \u001b[0;36mmasked_where\u001b[0;34m(condition, a, copy)\u001b[0m\n\u001b[1;32m   1940\u001b[0m     \u001b[0;32mif\u001b[0m \u001b[0mcshape\u001b[0m \u001b[0;32mand\u001b[0m \u001b[0mcshape\u001b[0m \u001b[0;34m!=\u001b[0m \u001b[0mashape\u001b[0m\u001b[0;34m:\u001b[0m\u001b[0;34m\u001b[0m\u001b[0;34m\u001b[0m\u001b[0m\n\u001b[1;32m   1941\u001b[0m         raise IndexError(\"Inconsistent shape between the condition and the input\"\n\u001b[0;32m-> 1942\u001b[0;31m                          \" (got %s and %s)\" % (cshape, ashape))\n\u001b[0m\u001b[1;32m   1943\u001b[0m     \u001b[0;32mif\u001b[0m \u001b[0mhasattr\u001b[0m\u001b[0;34m(\u001b[0m\u001b[0ma\u001b[0m\u001b[0;34m,\u001b[0m \u001b[0;34m'_mask'\u001b[0m\u001b[0;34m)\u001b[0m\u001b[0;34m:\u001b[0m\u001b[0;34m\u001b[0m\u001b[0;34m\u001b[0m\u001b[0m\n\u001b[1;32m   1944\u001b[0m         \u001b[0mcond\u001b[0m \u001b[0;34m=\u001b[0m \u001b[0mmask_or\u001b[0m\u001b[0;34m(\u001b[0m\u001b[0mcond\u001b[0m\u001b[0;34m,\u001b[0m \u001b[0ma\u001b[0m\u001b[0;34m.\u001b[0m\u001b[0m_mask\u001b[0m\u001b[0;34m)\u001b[0m\u001b[0;34m\u001b[0m\u001b[0;34m\u001b[0m\u001b[0m\n",
            "\u001b[0;31mIndexError\u001b[0m: Inconsistent shape between the condition and the input (got (17, 1) and (17,))"
          ]
        }
      ]
    },
    {
      "cell_type": "markdown",
      "metadata": {
        "_uuid": "01edf6a3a68f47f07164b3e4cb9e6ab5ef1efcd6",
        "id": "DDfvdYEOyHBf"
      },
      "source": [
        "## 2.2. Répartition de la taille des hommes et des femmes\n",
        "\n",
        "De notre exploration des valeurs uniques plus tôt, nous savons que le genre est codé par les valeurs *1* et *2*. Même si vous ne connaissez pas le mappage de ces valeurs au genre, vous pouvez le comprendre graphiquement en regardant les valeurs moyennes de la taille et du poids pour chaque valeurs de la fonction `gender`.\n",
        "\n",
        "**Ex. 14 : Créez un violinplot pour la hauteur et le genre en utilisant [`violinplot()`](https://seaborn.pydata.org/generated/seaborn.violinplot.html). Utilisez les paramètres :**\n",
        "- `hue` pour diviser par genre;\n",
        "- `scale` pour évaluer le nombre d'enregistrements pour chaque sexe.\n",
        "\n",
        "Pour que le tracé soit rendu correctement, vous devez convertir votre `DataFrame` au format `long` en utilisant la fonction `melt()` de `pandas`. Voici [un example](https://stackoverflow.com/a/41575149/3338479) pour votre référence."
      ]
    },
    {
      "cell_type": "code",
      "metadata": {
        "_uuid": "71d38ccddbe26ca51c69fbdba7cc4405ee459de4",
        "id": "ixRUKX2ayHBg",
        "outputId": "4fe0f760-abfa-439f-92e1-1ccb3ce1eccf",
        "colab": {
          "base_uri": "https://localhost:8080/",
          "height": 515
        }
      },
      "source": [
        "# You code here\n",
        "violinPlot=sns.violinplot(x=df['gender'], y='height',hue=df['gender'], data=df, scale='count')\n",
        "\n",
        "#Autre methode sans le count ==> violinPlot=sns.violinplot(x=df['gender'],y=df['height'])"
      ],
      "execution_count": 24,
      "outputs": [
        {
          "output_type": "display_data",
          "data": {
            "image/png": "[encoded data removed]",
            "text/plain": [
              "<Figure size 792x576 with 1 Axes>"
            ]
          },
          "metadata": {
            "tags": [],
            "needs_background": "light"
          }
        }
      ]
    },
    {
      "cell_type": "markdown",
      "metadata": {
        "_uuid": "25b4b303156fd6f9178c9b23fba4ff3f220a5977",
        "id": "M-FCXc-dyHBh"
      },
      "source": [
        "## 2.3. Age\n",
        "\n",
        "Auparavant, nous calculions l'âge des répondants en années au moment de l'examen.\n",
        "\n",
        "**Ex. 15 : Creez un `count plot` en utilisant [`countplot()`](http://seaborn.pydata.org/generated/seaborn.countplot.html) avec l'age sur l'axe *X* et le nombre de personnes sur l'axe *Y*.**\n",
        "\n",
        "En définitive, votre graphique devrait avoir deux colonnes pour chaque âge, correspondant au nombre de personnes pour chaque classes *cardio* de cet âge."
      ]
    },
    {
      "cell_type": "code",
      "metadata": {
        "_uuid": "fd07f3aab9891fd86228d5880a7a38cc88b282ba",
        "id": "I6bYhgBSyHBh",
        "outputId": "0d36ec73-247f-42e0-9d4b-a2f82f708bbf",
        "colab": {
          "base_uri": "https://localhost:8080/",
          "height": 515
        }
      },
      "source": [
        "# You code here\n",
        "countPlot=sns.countplot(x=df[\"age_years\"], hue=df[\"gender\"])\n",
        "plt.show()"
      ],
      "execution_count": 32,
      "outputs": [
        {
          "output_type": "display_data",
          "data": {
            "image/png": "[encoded data removed]",
            "text/plain": [
              "<Figure size 792x576 with 1 Axes>"
            ]
          },
          "metadata": {
            "tags": [],
            "needs_background": "light"
          }
        }
      ]
    },
    {
      "cell_type": "markdown",
      "metadata": {
        "_uuid": "49557c7bd46d729c27aa8190df65cc25e45e7528",
        "id": "d2XheufByHBi"
      },
      "source": [
        "**Ex. 16 : Quel est le plus petit âge auquel le nombre de personnes atteintes d'une MCV dépasse le nombre de personnes sans MCV ?**"
      ]
    },
    {
      "cell_type": "code",
      "metadata": {
        "id": "93iX3sqkyHBj",
        "outputId": "ec01c73e-0ab1-48f3-f869-1fee8f8252ee",
        "colab": {
          "base_uri": "https://localhost:8080/",
          "height": 515
        }
      },
      "source": [
        "# You code here\n",
        "countPlot=sns.countplot(x=df[\"age_years\"], hue=df[\"cardio\"])\n",
        "plt.show()\n",
        "# C'est a partir de 56ans qu'on commenece a vaoir plus de persone avec MCV que saine pour le meme age."
      ],
      "execution_count": 33,
      "outputs": [
        {
          "output_type": "display_data",
          "data": {
            "image/png": "[encoded data removed]",
            "text/plain": [
              "<Figure size 792x576 with 1 Axes>"
            ]
          },
          "metadata": {
            "tags": [],
            "needs_background": "light"
          }
        }
      ]
    }
  ]
}